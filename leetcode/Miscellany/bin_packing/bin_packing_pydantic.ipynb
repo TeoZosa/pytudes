{
 "cells": [
  {
   "cell_type": "code",
   "execution_count": 7,
   "metadata": {
    "pycharm": {
     "name": "#%%\n"
    }
   },
   "outputs": [],
   "source": [
    "\"\"\"For use with https://www.cutlistoptimizer.com/\"\"\"\n",
    "\n",
    "# Input Data\n",
    "rec_dims_in = [\n",
    "\"2.5x2.5\",\n",
    "\"1x1\",\n",
    "\"3x3\",\n",
    "\"2x2.5\",\n",
    "\"3x8\",\n",
    "\"2.5x3.5\",\n",
    "\"3x3.5\",\n",
    "\"1x2\",\n",
    "\"2.5x3.5\",\n",
    "\"3x3.5\",\n",
    "\"3.75x2\",\n",
    "\"3.75x2\",\n",
    "\"4x4\",\n",
    "\"7.5x3/16\",\n",
    "\"2.25x3.25\",\n",
    "\"2.75x4.8\",\n",
    "\"1.5x4.17\",\n",
    "\"2.25x3.25\",\n",
    "\"1.5x0.25\",\n",
    "\"7.5x1\",\n",
    "\"2x2\",\n",
    "\"3.25x1\",\n",
    "\"3.75x2\",\n",
    "\"1.25x1.25\",\n",
    "\"3x3.5\"\n",
    "        ]\n",
    "bin_dims_in = [\"10.25x14.25\",\n",
    "               \"10.25x14.25\",]"
   ]
  },
  {
   "cell_type": "code",
   "execution_count": 8,
   "metadata": {
    "pycharm": {
     "name": "#%%\n"
    }
   },
   "outputs": [],
   "source": [
    "from enum import Enum\n",
    "from typing import Union\n",
    "\n",
    "import coolname\n",
    "from pydantic import BaseModel, Field, validator\n",
    "class UnitOfMeasure(str, Enum):\n",
    "    inch = \"in\"\n",
    "    millimeter = \"mm\"\n",
    "\n",
    "def parse_fraction(v: Union[str, float]) -> float:\n",
    "    if isinstance(v,str) and \"/\" in v:\n",
    "        numerator, denominator = [float(val) for val in v.split(\"/\")]\n",
    "        v = numerator/denominator\n",
    "    return float(v)\n",
    "class Rectangle(BaseModel):\n",
    "    Length: float\n",
    "    @validator(\"Length\", pre=True)\n",
    "    def Length_valid(cls, v: Union[str, float]) -> float:\n",
    "            return parse_fraction(v)\n",
    "\n",
    "    Width: float\n",
    "    @validator(\"Width\", pre=True)\n",
    "    def Width_valid(cls, v: Union[str, float]) -> float:\n",
    "        return parse_fraction(v)\n",
    "\n",
    "    Label: str = Field(default_factory=coolname.generate_slug)\n",
    "    unit_of_measure: UnitOfMeasure\n"
   ]
  },
  {
   "cell_type": "code",
   "execution_count": 9,
   "metadata": {
    "pycharm": {
     "name": "#%%\n"
    }
   },
   "outputs": [],
   "source": [
    "def convert_hxw_str_rec_to_rec_model(rec: str):\n",
    "    h, w = rec.split(\"x\")\n",
    "    return Rectangle(Length=h, Width=w, unit_of_measure=UnitOfMeasure.inch)\n",
    "\n",
    "def convert_rec_in_to_mm(rec: Rectangle):\n",
    "    if rec.unit_of_measure != UnitOfMeasure.inch:\n",
    "        raise RuntimeError(\"Input rectangle is not in inches!\\n\"\n",
    "                           f\"Actual unit of measure: {rec.unit_of_measure}\")\n",
    "    in_to_mm_conversion_factor = 25.4\n",
    "    return Rectangle(Length=(rec.Length * in_to_mm_conversion_factor),\n",
    "                     Width=(rec.Width * in_to_mm_conversion_factor),\n",
    "                     Label=rec.Label,\n",
    "                     unit_of_measure=UnitOfMeasure.millimeter)\n",
    "inserts_in = [convert_hxw_str_rec_to_rec_model(rec) for rec in rec_dims_in]\n",
    "inserts_mm = [convert_rec_in_to_mm(insert) for insert in inserts_in]\n",
    "\n",
    "bin_dims_in = [convert_hxw_str_rec_to_rec_model(rec) for rec in bin_dims_in]\n",
    "bin_dims_mm = [convert_rec_in_to_mm(rec) for rec in bin_dims_in]\n"
   ]
  },
  {
   "cell_type": "code",
   "execution_count": 10,
   "metadata": {
    "pycharm": {
     "name": "#%%\n"
    }
   },
   "outputs": [],
   "source": [
    "def add_mm_spacing_to_rec(rec: Rectangle, spacing: float):\n",
    "    return Rectangle(Length=(rec.Length + spacing),\n",
    "                         Width=(rec.Width + spacing),\n",
    "                         Label=rec.Label,\n",
    "                         unit_of_measure=UnitOfMeasure.millimeter)\n",
    "\n",
    "def add_pocket_mm_spacing_to_rec(rec: Rectangle):\n",
    "    insert_pocket_space_per_side = 3\n",
    "    insert_pocket_space_per_dim = insert_pocket_space_per_side*2\n",
    "    return add_mm_spacing_to_rec(rec, insert_pocket_space_per_dim)\n",
    "\n",
    "def add_interpocket_mm_spacing_to_rec(rec: Rectangle):\n",
    "    interpocket_space_per_side = 5\n",
    "    interpocket_space_per_dim = interpocket_space_per_side*2\n",
    "    return add_mm_spacing_to_rec(rec, interpocket_space_per_dim)\n",
    "\n",
    "inserts_mm_spaced = [add_interpocket_mm_spacing_to_rec(add_pocket_mm_spacing_to_rec(insert)) for insert in inserts_mm]\n",
    "bin_dims_mm_spaced = [add_interpocket_mm_spacing_to_rec(rec) for rec in bin_dims_mm]"
   ]
  },
  {
   "cell_type": "code",
   "execution_count": 28,
   "outputs": [],
   "source": [
    "import pandas as pd\n",
    "cut_list_inserts_dfs = pd.concat([pd.Series(insert.dict()) for insert in inserts_mm_spaced], axis=1).T\n",
    "cut_list_bins_dfs = pd.concat([pd.Series(rec.dict()) for rec in bin_dims_mm_spaced], axis=1).T"
   ],
   "metadata": {
    "collapsed": false,
    "pycharm": {
     "name": "#%%\n"
    }
   }
  },
  {
   "cell_type": "code",
   "execution_count": 29,
   "outputs": [],
   "source": [
    "for df in [cut_list_inserts_dfs, cut_list_bins_dfs]:\n",
    "    df.drop(\"unit_of_measure\", axis=1, inplace=True)\n",
    "    df[\"Qty\"] = 1\n",
    "    df[\"Enabled\"] = True"
   ],
   "metadata": {
    "collapsed": false,
    "pycharm": {
     "name": "#%%\n"
    }
   }
  },
  {
   "cell_type": "code",
   "execution_count": null,
   "outputs": [],
   "source": [
    "cut_list_inserts_dfs"
   ],
   "metadata": {
    "collapsed": false,
    "pycharm": {
     "name": "#%%\n"
    }
   }
  },
  {
   "cell_type": "code",
   "execution_count": 31,
   "metadata": {
    "pycharm": {
     "name": "#%%\n"
    }
   },
   "outputs": [],
   "source": [
    "cut_list_inserts_dfs.to_csv(\"recs.csv\", index=False)\n",
    "cut_list_bins_dfs.to_csv(\"bins.csv\", index=False)"
   ]
  },
  {
   "cell_type": "code",
   "execution_count": null,
   "metadata": {
    "pycharm": {
     "name": "#%%\n"
    }
   },
   "outputs": [],
   "source": []
  }
 ],
 "metadata": {
  "kernelspec": {
   "display_name": "Python 3",
   "language": "python",
   "name": "python3"
  },
  "language_info": {
   "codemirror_mode": {
    "name": "ipython",
    "version": 3
   },
   "file_extension": ".py",
   "mimetype": "text/x-python",
   "name": "python",
   "nbconvert_exporter": "python",
   "pygments_lexer": "ipython3",
   "version": "3.9.0"
  }
 },
 "nbformat": 4,
 "nbformat_minor": 1
}